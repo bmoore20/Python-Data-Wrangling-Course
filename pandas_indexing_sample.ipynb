{
 "cells": [
  {
   "cell_type": "code",
   "execution_count": 40,
   "id": "01642e04-7938-4611-9a39-d9ab575a2945",
   "metadata": {},
   "outputs": [],
   "source": [
    "import numpy as np\n",
    "import pandas as pd"
   ]
  },
  {
   "cell_type": "code",
   "execution_count": 41,
   "id": "38e167bf-7402-4e63-b4d9-f4ae14556891",
   "metadata": {},
   "outputs": [
    {
     "data": {
      "text/plain": [
       "'Pug'"
      ]
     },
     "execution_count": 41,
     "metadata": {},
     "output_type": "execute_result"
    }
   ],
   "source": [
    "dogs = {\n",
    "    'Name': ['Teddy', 'Pug', 'Mara'],\n",
    "    'Breed': ['Lab', 'Pug', 'Dachshund'],\n",
    "    'Color': ['Black', 'Tan', 'White'],\n",
    "    'Age': [5, 9, 1]\n",
    "}\n",
    "\n",
    "# multi indexing for dictionaries\n",
    "dogs['Name'][1]"
   ]
  },
  {
   "cell_type": "code",
   "execution_count": 42,
   "id": "f315051b-cc6b-4fb4-8b23-350d1a9a3516",
   "metadata": {},
   "outputs": [
    {
     "data": {
      "text/html": [
       "<div>\n",
       "<style scoped>\n",
       "    .dataframe tbody tr th:only-of-type {\n",
       "        vertical-align: middle;\n",
       "    }\n",
       "\n",
       "    .dataframe tbody tr th {\n",
       "        vertical-align: top;\n",
       "    }\n",
       "\n",
       "    .dataframe thead th {\n",
       "        text-align: right;\n",
       "    }\n",
       "</style>\n",
       "<table border=\"1\" class=\"dataframe\">\n",
       "  <thead>\n",
       "    <tr style=\"text-align: right;\">\n",
       "      <th></th>\n",
       "      <th>Name</th>\n",
       "      <th>Breed</th>\n",
       "      <th>Color</th>\n",
       "      <th>Age</th>\n",
       "    </tr>\n",
       "  </thead>\n",
       "  <tbody>\n",
       "    <tr>\n",
       "      <th>0</th>\n",
       "      <td>Teddy</td>\n",
       "      <td>Lab</td>\n",
       "      <td>Black</td>\n",
       "      <td>5</td>\n",
       "    </tr>\n",
       "    <tr>\n",
       "      <th>1</th>\n",
       "      <td>Pug</td>\n",
       "      <td>Pug</td>\n",
       "      <td>Tan</td>\n",
       "      <td>9</td>\n",
       "    </tr>\n",
       "    <tr>\n",
       "      <th>2</th>\n",
       "      <td>Mara</td>\n",
       "      <td>Dachshund</td>\n",
       "      <td>White</td>\n",
       "      <td>1</td>\n",
       "    </tr>\n",
       "  </tbody>\n",
       "</table>\n",
       "</div>"
      ],
      "text/plain": [
       "    Name      Breed  Color  Age\n",
       "0  Teddy        Lab  Black    5\n",
       "1    Pug        Pug    Tan    9\n",
       "2   Mara  Dachshund  White    1"
      ]
     },
     "execution_count": 42,
     "metadata": {},
     "output_type": "execute_result"
    }
   ],
   "source": [
    "dogs_df = pd.DataFrame(dogs)\n",
    "dogs_df"
   ]
  },
  {
   "cell_type": "code",
   "execution_count": 43,
   "id": "8dab5af0-24d1-4a4e-bc02-aabf84534f4c",
   "metadata": {},
   "outputs": [
    {
     "data": {
      "text/plain": [
       "pandas.core.series.Series"
      ]
     },
     "execution_count": 43,
     "metadata": {},
     "output_type": "execute_result"
    }
   ],
   "source": [
    "type(dogs_df['Name'])"
   ]
  },
  {
   "cell_type": "code",
   "execution_count": 44,
   "id": "99f006a9-b740-4e30-9d19-9055c2ad9c1b",
   "metadata": {},
   "outputs": [
    {
     "data": {
      "text/plain": [
       "5"
      ]
     },
     "execution_count": 44,
     "metadata": {},
     "output_type": "execute_result"
    }
   ],
   "source": [
    "dogs_df['Age'][0]"
   ]
  },
  {
   "cell_type": "code",
   "execution_count": 45,
   "id": "5a674c7b-2384-4158-bf40-b5c3f5ff1895",
   "metadata": {},
   "outputs": [
    {
     "data": {
      "text/plain": [
       "0    Teddy\n",
       "1      Pug\n",
       "2     Mara\n",
       "Name: Name, dtype: object"
      ]
     },
     "execution_count": 45,
     "metadata": {},
     "output_type": "execute_result"
    }
   ],
   "source": [
    "# all dogs names\n",
    "dogs_df['Name']"
   ]
  },
  {
   "cell_type": "code",
   "execution_count": 46,
   "id": "c748c638-fa37-4117-9649-54c6767713b2",
   "metadata": {},
   "outputs": [
    {
     "data": {
      "text/plain": [
       "'Teddy'"
      ]
     },
     "execution_count": 46,
     "metadata": {},
     "output_type": "execute_result"
    }
   ],
   "source": [
    "# first dog's name\n",
    "dogs_df['Name'][0]"
   ]
  },
  {
   "cell_type": "code",
   "execution_count": 50,
   "id": "efef9c94-2ed8-45f7-a767-054a0309dea9",
   "metadata": {},
   "outputs": [
    {
     "data": {
      "text/html": [
       "<div>\n",
       "<style scoped>\n",
       "    .dataframe tbody tr th:only-of-type {\n",
       "        vertical-align: middle;\n",
       "    }\n",
       "\n",
       "    .dataframe tbody tr th {\n",
       "        vertical-align: top;\n",
       "    }\n",
       "\n",
       "    .dataframe thead th {\n",
       "        text-align: right;\n",
       "    }\n",
       "</style>\n",
       "<table border=\"1\" class=\"dataframe\">\n",
       "  <thead>\n",
       "    <tr style=\"text-align: right;\">\n",
       "      <th></th>\n",
       "      <th>Breed</th>\n",
       "      <th>Color</th>\n",
       "      <th>Age</th>\n",
       "    </tr>\n",
       "    <tr>\n",
       "      <th>Name</th>\n",
       "      <th></th>\n",
       "      <th></th>\n",
       "      <th></th>\n",
       "    </tr>\n",
       "  </thead>\n",
       "  <tbody>\n",
       "    <tr>\n",
       "      <th>Teddy</th>\n",
       "      <td>Lab</td>\n",
       "      <td>Black</td>\n",
       "      <td>5</td>\n",
       "    </tr>\n",
       "    <tr>\n",
       "      <th>Pug</th>\n",
       "      <td>Pug</td>\n",
       "      <td>Tan</td>\n",
       "      <td>9</td>\n",
       "    </tr>\n",
       "    <tr>\n",
       "      <th>Mara</th>\n",
       "      <td>Dachshund</td>\n",
       "      <td>White</td>\n",
       "      <td>1</td>\n",
       "    </tr>\n",
       "  </tbody>\n",
       "</table>\n",
       "</div>"
      ],
      "text/plain": [
       "           Breed  Color  Age\n",
       "Name                        \n",
       "Teddy        Lab  Black    5\n",
       "Pug          Pug    Tan    9\n",
       "Mara   Dachshund  White    1"
      ]
     },
     "execution_count": 50,
     "metadata": {},
     "output_type": "execute_result"
    }
   ],
   "source": [
    "# what if we set the index (row labels) to dog's names\n",
    "dogs_df = dogs_df.set_index('Name')\n",
    "dogs_df"
   ]
  },
  {
   "cell_type": "code",
   "execution_count": 51,
   "id": "c0f0395b-af0c-4bd1-a8ba-f467fab0d79a",
   "metadata": {},
   "outputs": [
    {
     "data": {
      "text/plain": [
       "Index(['Teddy', 'Pug', 'Mara'], dtype='object', name='Name')"
      ]
     },
     "execution_count": 51,
     "metadata": {},
     "output_type": "execute_result"
    }
   ],
   "source": [
    "dogs_df.index"
   ]
  },
  {
   "cell_type": "code",
   "execution_count": 62,
   "id": "42725d0c-4ed5-441a-b052-3f2c5205ce86",
   "metadata": {},
   "outputs": [
    {
     "data": {
      "text/plain": [
       "5"
      ]
     },
     "execution_count": 62,
     "metadata": {},
     "output_type": "execute_result"
    }
   ],
   "source": [
    "# Access single \"cell\" using col and row key\n",
    "# column first then row \n",
    "dogs_df['Age']['Teddy']"
   ]
  },
  {
   "cell_type": "code",
   "execution_count": 63,
   "id": "f6b463a5-d585-4e73-8ba1-efac2836175a",
   "metadata": {},
   "outputs": [
    {
     "data": {
      "text/plain": [
       "Breed      Lab\n",
       "Color    Black\n",
       "Age          5\n",
       "Name: Teddy, dtype: object"
      ]
     },
     "execution_count": 63,
     "metadata": {},
     "output_type": "execute_result"
    }
   ],
   "source": [
    "# look by row\n",
    "dogs_df.iloc[0]"
   ]
  },
  {
   "cell_type": "code",
   "execution_count": 64,
   "id": "feac6b84-9b95-4d71-ba9d-cb49c8a33feb",
   "metadata": {},
   "outputs": [
    {
     "data": {
      "text/html": [
       "<div>\n",
       "<style scoped>\n",
       "    .dataframe tbody tr th:only-of-type {\n",
       "        vertical-align: middle;\n",
       "    }\n",
       "\n",
       "    .dataframe tbody tr th {\n",
       "        vertical-align: top;\n",
       "    }\n",
       "\n",
       "    .dataframe thead th {\n",
       "        text-align: right;\n",
       "    }\n",
       "</style>\n",
       "<table border=\"1\" class=\"dataframe\">\n",
       "  <thead>\n",
       "    <tr style=\"text-align: right;\">\n",
       "      <th></th>\n",
       "      <th>Breed</th>\n",
       "      <th>Color</th>\n",
       "      <th>Age</th>\n",
       "    </tr>\n",
       "    <tr>\n",
       "      <th>Name</th>\n",
       "      <th></th>\n",
       "      <th></th>\n",
       "      <th></th>\n",
       "    </tr>\n",
       "  </thead>\n",
       "  <tbody>\n",
       "    <tr>\n",
       "      <th>Teddy</th>\n",
       "      <td>Lab</td>\n",
       "      <td>Black</td>\n",
       "      <td>5</td>\n",
       "    </tr>\n",
       "    <tr>\n",
       "      <th>Pug</th>\n",
       "      <td>Pug</td>\n",
       "      <td>Tan</td>\n",
       "      <td>9</td>\n",
       "    </tr>\n",
       "  </tbody>\n",
       "</table>\n",
       "</div>"
      ],
      "text/plain": [
       "      Breed  Color  Age\n",
       "Name                   \n",
       "Teddy   Lab  Black    5\n",
       "Pug     Pug    Tan    9"
      ]
     },
     "execution_count": 64,
     "metadata": {},
     "output_type": "execute_result"
    }
   ],
   "source": [
    "# look by multiple rows\n",
    "dogs_df.iloc[0:2]"
   ]
  },
  {
   "cell_type": "code",
   "execution_count": 65,
   "id": "69b37462-a41f-4cd5-b58f-abc0e69c0da9",
   "metadata": {},
   "outputs": [
    {
     "data": {
      "text/html": [
       "<div>\n",
       "<style scoped>\n",
       "    .dataframe tbody tr th:only-of-type {\n",
       "        vertical-align: middle;\n",
       "    }\n",
       "\n",
       "    .dataframe tbody tr th {\n",
       "        vertical-align: top;\n",
       "    }\n",
       "\n",
       "    .dataframe thead th {\n",
       "        text-align: right;\n",
       "    }\n",
       "</style>\n",
       "<table border=\"1\" class=\"dataframe\">\n",
       "  <thead>\n",
       "    <tr style=\"text-align: right;\">\n",
       "      <th></th>\n",
       "      <th>Breed</th>\n",
       "      <th>Color</th>\n",
       "      <th>Age</th>\n",
       "    </tr>\n",
       "    <tr>\n",
       "      <th>Name</th>\n",
       "      <th></th>\n",
       "      <th></th>\n",
       "      <th></th>\n",
       "    </tr>\n",
       "  </thead>\n",
       "  <tbody>\n",
       "    <tr>\n",
       "      <th>Teddy</th>\n",
       "      <td>Lab</td>\n",
       "      <td>Black</td>\n",
       "      <td>5</td>\n",
       "    </tr>\n",
       "    <tr>\n",
       "      <th>Pug</th>\n",
       "      <td>Pug</td>\n",
       "      <td>Tan</td>\n",
       "      <td>9</td>\n",
       "    </tr>\n",
       "    <tr>\n",
       "      <th>Mara</th>\n",
       "      <td>Dachshund</td>\n",
       "      <td>White</td>\n",
       "      <td>1</td>\n",
       "    </tr>\n",
       "  </tbody>\n",
       "</table>\n",
       "</div>"
      ],
      "text/plain": [
       "           Breed  Color  Age\n",
       "Name                        \n",
       "Teddy        Lab  Black    5\n",
       "Pug          Pug    Tan    9\n",
       "Mara   Dachshund  White    1"
      ]
     },
     "execution_count": 65,
     "metadata": {},
     "output_type": "execute_result"
    }
   ],
   "source": [
    "dogs_df"
   ]
  },
  {
   "cell_type": "code",
   "execution_count": 71,
   "id": "79316af0-ebd7-4846-9420-88a0a7885efe",
   "metadata": {},
   "outputs": [
    {
     "data": {
      "text/plain": [
       "'Lab'"
      ]
     },
     "execution_count": 71,
     "metadata": {},
     "output_type": "execute_result"
    }
   ],
   "source": [
    "# get first row, first column\n",
    "# row first then column\n",
    "# index based on the numbers\n",
    "dogs_df.iloc[0, 0]"
   ]
  },
  {
   "cell_type": "code",
   "execution_count": 72,
   "id": "e351decb-6bc3-4743-bd3c-e40182ac1b1e",
   "metadata": {},
   "outputs": [
    {
     "data": {
      "text/plain": [
       "Breed      Lab\n",
       "Color    Black\n",
       "Age          5\n",
       "Name: Teddy, dtype: object"
      ]
     },
     "execution_count": 72,
     "metadata": {},
     "output_type": "execute_result"
    }
   ],
   "source": [
    "# get whole row\n",
    "dogs_df.loc['Teddy']"
   ]
  },
  {
   "cell_type": "code",
   "execution_count": 73,
   "id": "e419a496-a914-48e9-8ddc-d5d9b261dc0f",
   "metadata": {},
   "outputs": [
    {
     "data": {
      "text/plain": [
       "5"
      ]
     },
     "execution_count": 73,
     "metadata": {},
     "output_type": "execute_result"
    }
   ],
   "source": [
    "# get Teddy's age\n",
    "# index based on names of rows and columns \n",
    "dogs_df.loc['Teddy', 'Age']"
   ]
  },
  {
   "cell_type": "code",
   "execution_count": 76,
   "id": "aa8b81db-fc7a-4b51-a59e-e0ca875b8615",
   "metadata": {},
   "outputs": [
    {
     "data": {
      "text/plain": [
       "pandas.core.series.Series"
      ]
     },
     "execution_count": 76,
     "metadata": {},
     "output_type": "execute_result"
    }
   ],
   "source": [
    "type(dogs_df.loc['Teddy'])"
   ]
  },
  {
   "cell_type": "code",
   "execution_count": 75,
   "id": "6b237ef1-03eb-4bb4-88ad-37aefb6577bf",
   "metadata": {},
   "outputs": [
    {
     "data": {
      "text/plain": [
       "numpy.int64"
      ]
     },
     "execution_count": 75,
     "metadata": {},
     "output_type": "execute_result"
    }
   ],
   "source": [
    "type(dogs_df.loc['Teddy', 'Age'])"
   ]
  },
  {
   "cell_type": "code",
   "execution_count": 82,
   "id": "472a3ca0-fbed-44b0-9fda-70c32d7f3064",
   "metadata": {},
   "outputs": [
    {
     "data": {
      "text/html": [
       "<div>\n",
       "<style scoped>\n",
       "    .dataframe tbody tr th:only-of-type {\n",
       "        vertical-align: middle;\n",
       "    }\n",
       "\n",
       "    .dataframe tbody tr th {\n",
       "        vertical-align: top;\n",
       "    }\n",
       "\n",
       "    .dataframe thead th {\n",
       "        text-align: right;\n",
       "    }\n",
       "</style>\n",
       "<table border=\"1\" class=\"dataframe\">\n",
       "  <thead>\n",
       "    <tr style=\"text-align: right;\">\n",
       "      <th></th>\n",
       "      <th>Breed</th>\n",
       "      <th>Color</th>\n",
       "      <th>Age</th>\n",
       "    </tr>\n",
       "    <tr>\n",
       "      <th>Name</th>\n",
       "      <th></th>\n",
       "      <th></th>\n",
       "      <th></th>\n",
       "    </tr>\n",
       "  </thead>\n",
       "  <tbody>\n",
       "    <tr>\n",
       "      <th>Teddy</th>\n",
       "      <td>Lab</td>\n",
       "      <td>Black</td>\n",
       "      <td>5</td>\n",
       "    </tr>\n",
       "  </tbody>\n",
       "</table>\n",
       "</div>"
      ],
      "text/plain": [
       "      Breed  Color  Age\n",
       "Name                   \n",
       "Teddy   Lab  Black    5"
      ]
     },
     "execution_count": 82,
     "metadata": {},
     "output_type": "execute_result"
    }
   ],
   "source": [
    "dogs_df.loc[['Teddy']] # passing a single value list to the loc method"
   ]
  },
  {
   "cell_type": "code",
   "execution_count": 84,
   "id": "41e742dd-8f4b-41b8-b742-e6869d909164",
   "metadata": {},
   "outputs": [
    {
     "data": {
      "text/html": [
       "<div>\n",
       "<style scoped>\n",
       "    .dataframe tbody tr th:only-of-type {\n",
       "        vertical-align: middle;\n",
       "    }\n",
       "\n",
       "    .dataframe tbody tr th {\n",
       "        vertical-align: top;\n",
       "    }\n",
       "\n",
       "    .dataframe thead th {\n",
       "        text-align: right;\n",
       "    }\n",
       "</style>\n",
       "<table border=\"1\" class=\"dataframe\">\n",
       "  <thead>\n",
       "    <tr style=\"text-align: right;\">\n",
       "      <th></th>\n",
       "      <th>Breed</th>\n",
       "      <th>Color</th>\n",
       "      <th>Age</th>\n",
       "    </tr>\n",
       "    <tr>\n",
       "      <th>Name</th>\n",
       "      <th></th>\n",
       "      <th></th>\n",
       "      <th></th>\n",
       "    </tr>\n",
       "  </thead>\n",
       "  <tbody>\n",
       "    <tr>\n",
       "      <th>Teddy</th>\n",
       "      <td>Lab</td>\n",
       "      <td>Black</td>\n",
       "      <td>5</td>\n",
       "    </tr>\n",
       "    <tr>\n",
       "      <th>Pug</th>\n",
       "      <td>Pug</td>\n",
       "      <td>Tan</td>\n",
       "      <td>9</td>\n",
       "    </tr>\n",
       "    <tr>\n",
       "      <th>Mara</th>\n",
       "      <td>Dachshund</td>\n",
       "      <td>White</td>\n",
       "      <td>1</td>\n",
       "    </tr>\n",
       "  </tbody>\n",
       "</table>\n",
       "</div>"
      ],
      "text/plain": [
       "           Breed  Color  Age\n",
       "Name                        \n",
       "Teddy        Lab  Black    5\n",
       "Pug          Pug    Tan    9\n",
       "Mara   Dachshund  White    1"
      ]
     },
     "execution_count": 84,
     "metadata": {},
     "output_type": "execute_result"
    }
   ],
   "source": [
    "dogs_df.loc['Teddy':'Mara']"
   ]
  },
  {
   "cell_type": "code",
   "execution_count": 85,
   "id": "4ab6fa8c-0244-46db-88f3-e7c66e1660fa",
   "metadata": {},
   "outputs": [
    {
     "data": {
      "text/plain": [
       "pandas.core.frame.DataFrame"
      ]
     },
     "execution_count": 85,
     "metadata": {},
     "output_type": "execute_result"
    }
   ],
   "source": [
    "type(dogs_df.loc[['Teddy']])"
   ]
  },
  {
   "cell_type": "code",
   "execution_count": 90,
   "id": "5811fd41-74d2-402c-9464-1eaddf64f675",
   "metadata": {},
   "outputs": [],
   "source": [
    "# create new column in a dataframe \n",
    "# operation will be vectorized\n",
    "# assigning new series in the dataframe ... MODIFYs df\n",
    "dogs_df['Year Born'] = 2022 - dogs_df['Age']"
   ]
  },
  {
   "cell_type": "code",
   "execution_count": 91,
   "id": "49067e5f-0f56-4e1b-980b-5367d3a1e679",
   "metadata": {},
   "outputs": [
    {
     "data": {
      "text/html": [
       "<div>\n",
       "<style scoped>\n",
       "    .dataframe tbody tr th:only-of-type {\n",
       "        vertical-align: middle;\n",
       "    }\n",
       "\n",
       "    .dataframe tbody tr th {\n",
       "        vertical-align: top;\n",
       "    }\n",
       "\n",
       "    .dataframe thead th {\n",
       "        text-align: right;\n",
       "    }\n",
       "</style>\n",
       "<table border=\"1\" class=\"dataframe\">\n",
       "  <thead>\n",
       "    <tr style=\"text-align: right;\">\n",
       "      <th></th>\n",
       "      <th>Breed</th>\n",
       "      <th>Color</th>\n",
       "      <th>Age</th>\n",
       "      <th>Year Born</th>\n",
       "    </tr>\n",
       "    <tr>\n",
       "      <th>Name</th>\n",
       "      <th></th>\n",
       "      <th></th>\n",
       "      <th></th>\n",
       "      <th></th>\n",
       "    </tr>\n",
       "  </thead>\n",
       "  <tbody>\n",
       "    <tr>\n",
       "      <th>Teddy</th>\n",
       "      <td>Lab</td>\n",
       "      <td>Black</td>\n",
       "      <td>5</td>\n",
       "      <td>2017</td>\n",
       "    </tr>\n",
       "    <tr>\n",
       "      <th>Pug</th>\n",
       "      <td>Pug</td>\n",
       "      <td>Tan</td>\n",
       "      <td>9</td>\n",
       "      <td>2013</td>\n",
       "    </tr>\n",
       "    <tr>\n",
       "      <th>Mara</th>\n",
       "      <td>Dachshund</td>\n",
       "      <td>White</td>\n",
       "      <td>1</td>\n",
       "      <td>2021</td>\n",
       "    </tr>\n",
       "  </tbody>\n",
       "</table>\n",
       "</div>"
      ],
      "text/plain": [
       "           Breed  Color  Age  Year Born\n",
       "Name                                   \n",
       "Teddy        Lab  Black    5       2017\n",
       "Pug          Pug    Tan    9       2013\n",
       "Mara   Dachshund  White    1       2021"
      ]
     },
     "execution_count": 91,
     "metadata": {},
     "output_type": "execute_result"
    }
   ],
   "source": [
    "dogs_df"
   ]
  },
  {
   "cell_type": "code",
   "execution_count": 92,
   "id": "d285a9a5-da59-46f4-a351-f48d7af3952b",
   "metadata": {},
   "outputs": [],
   "source": [
    "# equal sign -> reassigning part of dataframe and changing what it contains\n",
    "# no equal sign -> did not save changes"
   ]
  },
  {
   "cell_type": "code",
   "execution_count": null,
   "id": "3cb87b4e-a6b6-4e48-a0ac-1bc174d83ac9",
   "metadata": {},
   "outputs": [],
   "source": []
  }
 ],
 "metadata": {
  "kernelspec": {
   "display_name": "Python 3 (ipykernel)",
   "language": "python",
   "name": "python3"
  },
  "language_info": {
   "codemirror_mode": {
    "name": "ipython",
    "version": 3
   },
   "file_extension": ".py",
   "mimetype": "text/x-python",
   "name": "python",
   "nbconvert_exporter": "python",
   "pygments_lexer": "ipython3",
   "version": "3.9.12"
  }
 },
 "nbformat": 4,
 "nbformat_minor": 5
}
