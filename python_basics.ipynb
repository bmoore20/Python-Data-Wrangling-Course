{
 "cells": [
  {
   "cell_type": "markdown",
   "id": "904edf64-fe68-45f9-8d1e-43c7b6f7e525",
   "metadata": {},
   "source": [
    "# Python Data Structures - Collections"
   ]
  },
  {
   "cell_type": "markdown",
   "id": "4639579a-16f8-4fcd-8b4e-a85c2db25bec",
   "metadata": {
    "tags": []
   },
   "source": [
    "## Pure Python"
   ]
  },
  {
   "cell_type": "markdown",
   "id": "14c3e1a3-39c9-4585-a191-8a9c6b636b15",
   "metadata": {},
   "source": [
    "### Lists\n",
    "- Ordered\n",
    "- Mutable (can change what the list contains)"
   ]
  },
  {
   "cell_type": "code",
   "execution_count": 4,
   "id": "417dcfd9-2672-4c51-a034-87d63adc86fe",
   "metadata": {},
   "outputs": [
    {
     "data": {
      "text/plain": [
       "[1, 2, 3, 7, 5]"
      ]
     },
     "execution_count": 4,
     "metadata": {},
     "output_type": "execute_result"
    }
   ],
   "source": [
    "my_list = [1, 2, 3, 4, 5]\n",
    "my_list[-2] = 7\n",
    "my_list"
   ]
  },
  {
   "cell_type": "code",
   "execution_count": 7,
   "id": "3e9c41ab-7530-4293-91c2-082c29ecb8af",
   "metadata": {},
   "outputs": [
    {
     "data": {
      "text/plain": [
       "['Mary', 'Carina']"
      ]
     },
     "execution_count": 7,
     "metadata": {},
     "output_type": "execute_result"
    }
   ],
   "source": [
    "names = ['Jay', 'Mary', 'Carina', 'Danielle']\n",
    "names[1:3]"
   ]
  },
  {
   "cell_type": "markdown",
   "id": "d0d264c1-eb28-437d-a357-5fd8a2b4d5bf",
   "metadata": {},
   "source": [
    "Python lists can contain different types of values, which almost universally does not make sense/is not useful in data analysis. \n",
    "You cannot search for an index that does not exist in a list. "
   ]
  },
  {
   "cell_type": "code",
   "execution_count": 8,
   "id": "d1a4d0c0-6447-461f-89ea-0c8b3b64fa6b",
   "metadata": {},
   "outputs": [
    {
     "data": {
      "text/plain": [
       "[7, 'fish', True]"
      ]
     },
     "execution_count": 8,
     "metadata": {},
     "output_type": "execute_result"
    }
   ],
   "source": [
    "another_list = [7, 'fish', True]\n",
    "another_list"
   ]
  },
  {
   "cell_type": "code",
   "execution_count": 13,
   "id": "ee60969b-2d1a-4a71-8fe4-23b172baacd8",
   "metadata": {},
   "outputs": [],
   "source": [
    "my_dog_info = [\n",
    "    ['Name', 'Teddy'],\n",
    "    ['Species', 'Dog'],\n",
    "    ['Color', 'Black']\n",
    "]\n",
    "\n",
    "my_dog_info2 = [\n",
    "    ['Name', 'Species', 'Color'],\n",
    "    ['Teddy', 'Dog', 'Black']\n",
    "]"
   ]
  },
  {
   "cell_type": "markdown",
   "id": "05bd0946-a95a-4405-bfbc-2734a374de8f",
   "metadata": {},
   "source": [
    "### Dictionaries\n",
    "- Unordered jk Ordered (as of Java 3.7)\n",
    "- Mutable"
   ]
  },
  {
   "cell_type": "code",
   "execution_count": 14,
   "id": "f14b37ac-a30d-4845-9ad3-2295967007c9",
   "metadata": {},
   "outputs": [],
   "source": [
    "my_dog = {\n",
    "    'Name': 'Teddy',\n",
    "    'Species': 'Dog',\n",
    "    'Color': 'Black'\n",
    "}\n",
    "my_dog['Color'] = 'White'"
   ]
  },
  {
   "cell_type": "code",
   "execution_count": 15,
   "id": "9c7824f1-8398-4816-a939-8c26740790ba",
   "metadata": {},
   "outputs": [
    {
     "data": {
      "text/plain": [
       "'White'"
      ]
     },
     "execution_count": 15,
     "metadata": {},
     "output_type": "execute_result"
    }
   ],
   "source": [
    "my_dog['Color']"
   ]
  },
  {
   "cell_type": "code",
   "execution_count": 16,
   "id": "058b230d-60c5-4178-8f2f-8505ee0a4a5f",
   "metadata": {},
   "outputs": [
    {
     "data": {
      "text/plain": [
       "{'Name': 'Teddy', 'Species': 'Dog', 'Color': 'White', 'Age': 5}"
      ]
     },
     "execution_count": 16,
     "metadata": {},
     "output_type": "execute_result"
    }
   ],
   "source": [
    "my_dog['Age'] = 5\n",
    "my_dog"
   ]
  },
  {
   "cell_type": "markdown",
   "id": "1844728e-1247-4b92-9b99-2b3402b5b34b",
   "metadata": {},
   "source": [
    "### Tuples\n",
    "- Immutable\n",
    "- Ordered"
   ]
  },
  {
   "cell_type": "code",
   "execution_count": 18,
   "id": "fb83523b-b57d-4005-884e-004261daf56a",
   "metadata": {},
   "outputs": [],
   "source": [
    "my_tup = (255, 255, 255)\n",
    "my_coords = (1, -2.5)\n",
    "geo = (-45.6, 23)"
   ]
  },
  {
   "cell_type": "markdown",
   "id": "70fccbaf-ec47-48b9-8c98-899fa5bf56b4",
   "metadata": {},
   "source": [
    "### Sets\n",
    "- Unordered\n",
    "- Mutable\n",
    "- All of the items must be unique "
   ]
  },
  {
   "cell_type": "code",
   "execution_count": 22,
   "id": "71e2139b-4c79-40b1-8f86-b6bac089ef9e",
   "metadata": {},
   "outputs": [
    {
     "data": {
      "text/plain": [
       "['Jay', 'DeAnna', 'Eddie']"
      ]
     },
     "execution_count": 22,
     "metadata": {},
     "output_type": "execute_result"
    }
   ],
   "source": [
    "list_o_names = ['Jay', 'DeAnna', 'Eddie', 'Jay', 'Jay']\n",
    "list(set(list_o_names)) # way to drop duplicates from a list while keeping it as a list"
   ]
  },
  {
   "cell_type": "markdown",
   "id": "13578f29-fff2-4bc8-aa64-010cb1622872",
   "metadata": {
    "tags": []
   },
   "source": [
    "## Why is Pure Python not great for Data Analysis?"
   ]
  },
  {
   "cell_type": "markdown",
   "id": "d272564c-04c1-47d9-b8c2-b1e085b0ba6a",
   "metadata": {},
   "source": [
    "- Collections can contain different data types\n",
    "- OOP - constructor methods, getters/setters, props -> slow things down and get in the way -> makes values a lot larger than they need to be (technically objects)\n",
    "- Python lists are much larger (more memory) than np array\n",
    "- Only one type is allowed in np array\n",
    "- Most operations are vectorized across np arrays\n",
    "- Numpy lists are computationally better than pure python lists "
   ]
  },
  {
   "cell_type": "code",
   "execution_count": 24,
   "id": "5b131f81-bd31-4fa3-b858-2b4c148086f8",
   "metadata": {},
   "outputs": [
    {
     "data": {
      "text/plain": [
       "'data'"
      ]
     },
     "execution_count": 24,
     "metadata": {},
     "output_type": "execute_result"
    }
   ],
   "source": [
    "s = 'DATA'\n",
    "s.lower()"
   ]
  },
  {
   "cell_type": "code",
   "execution_count": 26,
   "id": "626c714b-5d66-4001-823c-79dfa5fe5ab9",
   "metadata": {},
   "outputs": [
    {
     "data": {
      "text/plain": [
       "120"
      ]
     },
     "execution_count": 26,
     "metadata": {},
     "output_type": "execute_result"
    }
   ],
   "source": [
    "import sys\n",
    "sys.getsizeof(5)\n",
    "sys.getsizeof(my_list)"
   ]
  },
  {
   "cell_type": "markdown",
   "id": "f1251fe1-6ad4-4b2a-a2e8-21a55313201b",
   "metadata": {},
   "source": [
    "#### Simple sequential list"
   ]
  },
  {
   "cell_type": "code",
   "execution_count": 33,
   "id": "da29afba-3cbf-4165-8f63-61946550e1be",
   "metadata": {},
   "outputs": [],
   "source": [
    "my_list = []\n",
    "for  i in range(0, 1000):\n",
    "    my_list.append(i)"
   ]
  },
  {
   "cell_type": "code",
   "execution_count": 34,
   "id": "fa523384-081f-4419-b079-fc5183b4785b",
   "metadata": {},
   "outputs": [
    {
     "data": {
      "text/plain": [
       "1000"
      ]
     },
     "execution_count": 34,
     "metadata": {},
     "output_type": "execute_result"
    }
   ],
   "source": [
    "len(my_list)"
   ]
  },
  {
   "cell_type": "code",
   "execution_count": 39,
   "id": "fb3acd7c-489e-4665-9400-5a6fdcf1f2b1",
   "metadata": {},
   "outputs": [
    {
     "data": {
      "text/plain": [
       "8856"
      ]
     },
     "execution_count": 39,
     "metadata": {},
     "output_type": "execute_result"
    }
   ],
   "source": [
    "sys.getsizeof(my_list)"
   ]
  },
  {
   "cell_type": "markdown",
   "id": "4eb66cee-ad53-442b-b80f-07289ec4ea12",
   "metadata": {},
   "source": [
    "#### Evens only"
   ]
  },
  {
   "cell_type": "code",
   "execution_count": 37,
   "id": "d8ec8ced-bb3e-4ad3-aec2-5683dee32e2f",
   "metadata": {},
   "outputs": [],
   "source": [
    "evens_list = []\n",
    "for i in range(0, 1000):\n",
    "    if i % 2 == 0:\n",
    "        evens_list.append(i)"
   ]
  },
  {
   "cell_type": "code",
   "execution_count": 38,
   "id": "4b9c8201-4f94-4fa3-b9b4-17b667ee9460",
   "metadata": {},
   "outputs": [
    {
     "data": {
      "text/plain": [
       "500"
      ]
     },
     "execution_count": 38,
     "metadata": {},
     "output_type": "execute_result"
    }
   ],
   "source": [
    "len(evens_list)"
   ]
  },
  {
   "cell_type": "markdown",
   "id": "37c3ad2e-6fa4-4cd2-b332-b5b513b8a2b5",
   "metadata": {},
   "source": [
    "#### List Comprehensions"
   ]
  },
  {
   "cell_type": "code",
   "execution_count": 41,
   "id": "28b86b27-a349-40da-8b2e-249c1826b69e",
   "metadata": {},
   "outputs": [
    {
     "data": {
      "text/plain": [
       "1000"
      ]
     },
     "execution_count": 41,
     "metadata": {},
     "output_type": "execute_result"
    }
   ],
   "source": [
    "my_list_comp = [i for i in range(0, 1000)]\n",
    "len(my_list_comp)"
   ]
  },
  {
   "cell_type": "code",
   "execution_count": 43,
   "id": "523c7c51-ad9c-418f-b5b3-681e02baa36c",
   "metadata": {},
   "outputs": [
    {
     "data": {
      "text/plain": [
       "499"
      ]
     },
     "execution_count": 43,
     "metadata": {},
     "output_type": "execute_result"
    }
   ],
   "source": [
    "my_evens_comp = [i for i in range(0, 1000) if (i % 2 == 0) and (i != 6)]\n",
    "len(my_evens_comp)"
   ]
  },
  {
   "cell_type": "code",
   "execution_count": 50,
   "id": "91540642-824e-442d-9465-f75adc6b5626",
   "metadata": {},
   "outputs": [],
   "source": [
    "list_2d = []\n",
    "for i in range(500):\n",
    "    col = []\n",
    "    for j in range(9):\n",
    "        col.append(5)\n",
    "    list_2d.append(col)"
   ]
  },
  {
   "cell_type": "code",
   "execution_count": 54,
   "id": "68e3acde-baa9-4b4c-a91f-c33d73bad7a5",
   "metadata": {},
   "outputs": [
    {
     "data": {
      "text/plain": [
       "500"
      ]
     },
     "execution_count": 54,
     "metadata": {},
     "output_type": "execute_result"
    }
   ],
   "source": [
    "len(list_2d)"
   ]
  },
  {
   "cell_type": "code",
   "execution_count": 55,
   "id": "3a4427bc-e577-4441-9c9f-b046ff1fccb0",
   "metadata": {},
   "outputs": [
    {
     "data": {
      "text/plain": [
       "500"
      ]
     },
     "execution_count": 55,
     "metadata": {},
     "output_type": "execute_result"
    }
   ],
   "source": [
    "list_2d_comp = [[5 for i in range(9)] for j in range(500)]\n",
    "len(list_2d_comp)"
   ]
  },
  {
   "cell_type": "code",
   "execution_count": 58,
   "id": "34b09002-528e-41d9-a1ab-be016d90daf5",
   "metadata": {},
   "outputs": [
    {
     "data": {
      "text/plain": [
       "42160"
      ]
     },
     "execution_count": 58,
     "metadata": {},
     "output_type": "execute_result"
    }
   ],
   "source": [
    "sys.getsizeof(list_2d_comp) * 10"
   ]
  },
  {
   "cell_type": "code",
   "execution_count": 63,
   "id": "4a8d5858-7e12-4c73-b185-7b2446ea1d14",
   "metadata": {},
   "outputs": [],
   "source": [
    "import numpy as np"
   ]
  },
  {
   "cell_type": "code",
   "execution_count": 68,
   "id": "e05c4ed5-7496-4e9b-ac2a-65c90c16f572",
   "metadata": {},
   "outputs": [
    {
     "data": {
      "text/plain": [
       "array([[5, 5, 5, ..., 5, 5, 5],\n",
       "       [5, 5, 5, ..., 5, 5, 5],\n",
       "       [5, 5, 5, ..., 5, 5, 5],\n",
       "       ...,\n",
       "       [5, 5, 5, ..., 5, 5, 5],\n",
       "       [5, 5, 5, ..., 5, 5, 5],\n",
       "       [5, 5, 5, ..., 5, 5, 5]])"
      ]
     },
     "execution_count": 68,
     "metadata": {},
     "output_type": "execute_result"
    }
   ],
   "source": [
    "my_arr = np.array(list_2d_comp)\n",
    "my_arr"
   ]
  },
  {
   "cell_type": "code",
   "execution_count": 69,
   "id": "ebf23af6-b5b6-4dd9-9485-2b0b4d63d9cc",
   "metadata": {},
   "outputs": [
    {
     "data": {
      "text/plain": [
       "36000"
      ]
     },
     "execution_count": 69,
     "metadata": {},
     "output_type": "execute_result"
    }
   ],
   "source": [
    "my_arr.nbytes"
   ]
  },
  {
   "cell_type": "code",
   "execution_count": 71,
   "id": "6fa42448-ac4b-4753-9a05-ff13ae87d26c",
   "metadata": {},
   "outputs": [
    {
     "data": {
      "text/plain": [
       "1703520"
      ]
     },
     "execution_count": 71,
     "metadata": {},
     "output_type": "execute_result"
    }
   ],
   "source": [
    "list_c = [[col for col in range(20)] for row in range (10000)]\n",
    "sys.getsizeof(list_c) * len(list_c[0])"
   ]
  },
  {
   "cell_type": "code",
   "execution_count": 83,
   "id": "eede4fec-f50f-4e4c-8763-f4f41726fc00",
   "metadata": {},
   "outputs": [
    {
     "data": {
      "text/plain": [
       "200000"
      ]
     },
     "execution_count": 83,
     "metadata": {},
     "output_type": "execute_result"
    }
   ],
   "source": [
    "big_arr = np.array(list_c, dtype=np.int8)\n",
    "big_arr.nbytes\n"
   ]
  },
  {
   "cell_type": "markdown",
   "id": "c216b0fa-629f-4cdf-b24d-d528043bb581",
   "metadata": {},
   "source": [
    "#### Generating data with NumPy"
   ]
  },
  {
   "cell_type": "code",
   "execution_count": 105,
   "id": "6df992a0-cf8a-41d9-a099-9d45a7a7a5d0",
   "metadata": {},
   "outputs": [
    {
     "data": {
      "text/plain": [
       "2"
      ]
     },
     "execution_count": 105,
     "metadata": {},
     "output_type": "execute_result"
    }
   ],
   "source": [
    "np.random.randint(2, 8,  10000).reshape(20, 500).ndim"
   ]
  },
  {
   "cell_type": "code",
   "execution_count": 106,
   "id": "5a1073ff-f0c4-44fc-af94-c77618826e24",
   "metadata": {},
   "outputs": [
    {
     "data": {
      "text/plain": [
       "array([[[3, 8, 7],\n",
       "        [3, 8, 4],\n",
       "        [9, 8, 2]],\n",
       "\n",
       "       [[5, 6, 1],\n",
       "        [8, 7, 7],\n",
       "        [5, 2, 1]],\n",
       "\n",
       "       [[4, 8, 3],\n",
       "        [1, 8, 5],\n",
       "        [1, 5, 4]]])"
      ]
     },
     "execution_count": 106,
     "metadata": {},
     "output_type": "execute_result"
    }
   ],
   "source": [
    "np.random.randint(1, 10, 27).reshape(3, 3, 3)"
   ]
  },
  {
   "cell_type": "code",
   "execution_count": 108,
   "id": "b5dc9a09-fd6f-4f90-a084-d384d2323f58",
   "metadata": {},
   "outputs": [
    {
     "data": {
      "text/plain": [
       "array([[[[0, 0],\n",
       "         [0, 1]],\n",
       "\n",
       "        [[1, 1],\n",
       "         [1, 0]]],\n",
       "\n",
       "\n",
       "       [[[1, 1],\n",
       "         [1, 1]],\n",
       "\n",
       "        [[1, 0],\n",
       "         [0, 1]]]])"
      ]
     },
     "execution_count": 108,
     "metadata": {},
     "output_type": "execute_result"
    }
   ],
   "source": [
    "np.random.randint(0, 2, 16).reshape(2, 2, 2, 2)"
   ]
  },
  {
   "cell_type": "markdown",
   "id": "4344466f-cb33-4ff5-b9dd-78c63ab50207",
   "metadata": {},
   "source": [
    "#### Vectorized Operations"
   ]
  },
  {
   "cell_type": "code",
   "execution_count": 73,
   "id": "f5d7c592-a6ea-4183-ad7a-d135497b1058",
   "metadata": {},
   "outputs": [],
   "source": [
    "num_list = [2, 4, 6]"
   ]
  },
  {
   "cell_type": "code",
   "execution_count": 74,
   "id": "3de8baac-48d0-4c50-9503-b13acebe81b8",
   "metadata": {},
   "outputs": [
    {
     "ename": "TypeError",
     "evalue": "can only concatenate list (not \"int\") to list",
     "output_type": "error",
     "traceback": [
      "\u001b[0;31m---------------------------------------------------------------------------\u001b[0m",
      "\u001b[0;31mTypeError\u001b[0m                                 Traceback (most recent call last)",
      "Input \u001b[0;32mIn [74]\u001b[0m, in \u001b[0;36m<cell line: 1>\u001b[0;34m()\u001b[0m\n\u001b[0;32m----> 1\u001b[0m \u001b[43mnum_list\u001b[49m\u001b[43m \u001b[49m\u001b[38;5;241;43m+\u001b[39;49m\u001b[43m \u001b[49m\u001b[38;5;241;43m10\u001b[39;49m\n",
      "\u001b[0;31mTypeError\u001b[0m: can only concatenate list (not \"int\") to list"
     ]
    }
   ],
   "source": [
    "num_list + 10"
   ]
  },
  {
   "cell_type": "markdown",
   "id": "f098aec5-00c9-4d0a-949a-d9307fa91d8e",
   "metadata": {},
   "source": [
    "Here's how we would add 10 to each item:"
   ]
  },
  {
   "cell_type": "code",
   "execution_count": 78,
   "id": "547a2a91-0cfc-4d25-b808-47a6662fbe2e",
   "metadata": {},
   "outputs": [
    {
     "data": {
      "text/plain": [
       "[12, 14, 16]"
      ]
     },
     "execution_count": 78,
     "metadata": {},
     "output_type": "execute_result"
    }
   ],
   "source": [
    "new_list = []\n",
    "\n",
    "for el in num_list:\n",
    "    new_list.append(el + 10)\n",
    "\n",
    "new_list"
   ]
  },
  {
   "cell_type": "code",
   "execution_count": 75,
   "id": "eb9497c0-388c-47a0-a0d1-2358f1a4b3bb",
   "metadata": {},
   "outputs": [],
   "source": [
    "num_arr = np.array(num_list)"
   ]
  },
  {
   "cell_type": "code",
   "execution_count": 76,
   "id": "9cd386fe-bc01-4463-a6c7-a885bc85c2eb",
   "metadata": {},
   "outputs": [
    {
     "data": {
      "text/plain": [
       "array([12, 14, 16])"
      ]
     },
     "execution_count": 76,
     "metadata": {},
     "output_type": "execute_result"
    }
   ],
   "source": [
    "num_arr + 10"
   ]
  },
  {
   "cell_type": "code",
   "execution_count": 79,
   "id": "815c58cc-f330-4636-bf06-fbff4ab4a23e",
   "metadata": {},
   "outputs": [
    {
     "data": {
      "text/plain": [
       "array([20, 40, 60])"
      ]
     },
     "execution_count": 79,
     "metadata": {},
     "output_type": "execute_result"
    }
   ],
   "source": [
    "num_arr * 10"
   ]
  },
  {
   "cell_type": "code",
   "execution_count": 80,
   "id": "8293fec5-6d71-4af3-88d2-d9ff98d9c479",
   "metadata": {},
   "outputs": [
    {
     "data": {
      "text/plain": [
       "[1, 2, 3, 4, 5, 6]"
      ]
     },
     "execution_count": 80,
     "metadata": {},
     "output_type": "execute_result"
    }
   ],
   "source": [
    "list1 = [1, 2, 3]\n",
    "list2 = [4, 5, 6]\n",
    "list1 + list2"
   ]
  },
  {
   "cell_type": "code",
   "execution_count": 81,
   "id": "5eddf6a8-2f74-4185-af1a-95bfd51a8abd",
   "metadata": {},
   "outputs": [
    {
     "data": {
      "text/plain": [
       "array([5, 7, 9])"
      ]
     },
     "execution_count": 81,
     "metadata": {},
     "output_type": "execute_result"
    }
   ],
   "source": [
    "arr1 = np.array(list1)\n",
    "arr2 = np.array(list2)\n",
    "arr1 + arr2"
   ]
  },
  {
   "cell_type": "code",
   "execution_count": 84,
   "id": "7615b667-cf70-4a5f-9696-f3a667dadef0",
   "metadata": {},
   "outputs": [
    {
     "data": {
      "text/plain": [
       "array([0.05405405, 0.10810811, 0.16216216])"
      ]
     },
     "execution_count": 84,
     "metadata": {},
     "output_type": "execute_result"
    }
   ],
   "source": [
    "num_arr / 37"
   ]
  },
  {
   "cell_type": "code",
   "execution_count": 85,
   "id": "1552a13d-a1b7-4d47-b387-c86c2a923978",
   "metadata": {},
   "outputs": [
    {
     "data": {
      "text/plain": [
       "array([2, 4, 6])"
      ]
     },
     "execution_count": 85,
     "metadata": {},
     "output_type": "execute_result"
    }
   ],
   "source": [
    "num_arr"
   ]
  },
  {
   "cell_type": "markdown",
   "id": "d6fce011-7621-4732-b9f9-fe089184e958",
   "metadata": {},
   "source": [
    "#### Here's where vectorizing operations gets a little tricky"
   ]
  },
  {
   "cell_type": "code",
   "execution_count": 95,
   "id": "de0edae4-a85c-4515-9f49-fe3eb7f2abf3",
   "metadata": {},
   "outputs": [],
   "source": [
    "import math\n",
    "import pandas as pd"
   ]
  },
  {
   "cell_type": "code",
   "execution_count": 90,
   "id": "12d4e005-3727-472f-bc20-f0360245b463",
   "metadata": {},
   "outputs": [],
   "source": [
    "sq_list = [16, 144, 10000, 81, 4]\n",
    "sq_arr = np.array(sq_list)"
   ]
  },
  {
   "cell_type": "code",
   "execution_count": 98,
   "id": "86e2414b-9a0d-44bf-82a3-fd9a8fce3cbc",
   "metadata": {},
   "outputs": [
    {
     "data": {
      "text/plain": [
       "0      4.0\n",
       "1     12.0\n",
       "2    100.0\n",
       "3      9.0\n",
       "4      2.0\n",
       "dtype: float64"
      ]
     },
     "execution_count": 98,
     "metadata": {},
     "output_type": "execute_result"
    }
   ],
   "source": [
    "pd_arr = pd.Series(sq_arr)\n",
    "pd_arr.apply(math.sqrt)"
   ]
  },
  {
   "cell_type": "markdown",
   "id": "715ae2c8-01ff-4a18-bb37-9d3b7a19b40f",
   "metadata": {},
   "source": [
    "#### NumPy arrays vs. pandas DataFrames\n",
    "- nd arrays are a little faster\n",
    "- pandas Series: 1 dim, pandas DataFrame: 2dim -> no 3d dataframes!\n",
    "- ndarrays can be n dimensions - aerospace stuff may require 3+ dims\n",
    "- ndarrays ALWAYS index numerically from 0\n",
    "- pd Series and DataFrames indexed numerically from 0 by default, but index (row labels) can be anything"
   ]
  },
  {
   "cell_type": "code",
   "execution_count": 109,
   "id": "933940e4-33d0-4680-9f25-446ce41d729a",
   "metadata": {},
   "outputs": [
    {
     "data": {
      "text/plain": [
       "4"
      ]
     },
     "execution_count": 109,
     "metadata": {},
     "output_type": "execute_result"
    }
   ],
   "source": [
    "sq_arr[-1]"
   ]
  },
  {
   "cell_type": "code",
   "execution_count": null,
   "id": "6d582b3f-523b-4ecd-bedc-ef0c78d858af",
   "metadata": {},
   "outputs": [],
   "source": []
  }
 ],
 "metadata": {
  "kernelspec": {
   "display_name": "Python 3 (ipykernel)",
   "language": "python",
   "name": "python3"
  },
  "language_info": {
   "codemirror_mode": {
    "name": "ipython",
    "version": 3
   },
   "file_extension": ".py",
   "mimetype": "text/x-python",
   "name": "python",
   "nbconvert_exporter": "python",
   "pygments_lexer": "ipython3",
   "version": "3.9.12"
  }
 },
 "nbformat": 4,
 "nbformat_minor": 5
}
