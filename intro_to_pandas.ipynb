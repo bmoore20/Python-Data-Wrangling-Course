{
 "cells": [
  {
   "cell_type": "code",
   "execution_count": 1,
   "id": "dd71b7c2-ed13-4656-b8fa-3f53310c69b5",
   "metadata": {},
   "outputs": [],
   "source": [
    "import pandas as pd\n",
    "import numpy as np"
   ]
  },
  {
   "cell_type": "code",
   "execution_count": 3,
   "id": "0db12439-8db1-4df3-8b1e-072cb5810024",
   "metadata": {},
   "outputs": [
    {
     "data": {
      "text/plain": [
       "array(['Jay', 'Mary', 'Carina', 'Danielle'], dtype='<U8')"
      ]
     },
     "execution_count": 3,
     "metadata": {},
     "output_type": "execute_result"
    }
   ],
   "source": [
    "names = ['Jay', 'Mary', 'Carina', 'Danielle']\n",
    "names_arr = np.array(names)\n",
    "names_arr"
   ]
  },
  {
   "cell_type": "code",
   "execution_count": 5,
   "id": "336a2137-4c36-4a1c-913b-019bfda59fc6",
   "metadata": {},
   "outputs": [
    {
     "data": {
      "text/plain": [
       "0         Jay\n",
       "1        Mary\n",
       "2      Carina\n",
       "3    Danielle\n",
       "dtype: object"
      ]
     },
     "execution_count": 5,
     "metadata": {},
     "output_type": "execute_result"
    }
   ],
   "source": [
    "names_series = pd.Series(names)\n",
    "names_series"
   ]
  },
  {
   "cell_type": "code",
   "execution_count": 7,
   "id": "3a4c5fb3-f5b0-4fcf-b283-bc16dfa9b331",
   "metadata": {},
   "outputs": [
    {
     "data": {
      "text/html": [
       "<div>\n",
       "<style scoped>\n",
       "    .dataframe tbody tr th:only-of-type {\n",
       "        vertical-align: middle;\n",
       "    }\n",
       "\n",
       "    .dataframe tbody tr th {\n",
       "        vertical-align: top;\n",
       "    }\n",
       "\n",
       "    .dataframe thead th {\n",
       "        text-align: right;\n",
       "    }\n",
       "</style>\n",
       "<table border=\"1\" class=\"dataframe\">\n",
       "  <thead>\n",
       "    <tr style=\"text-align: right;\">\n",
       "      <th></th>\n",
       "      <th>0</th>\n",
       "      <th>1</th>\n",
       "    </tr>\n",
       "  </thead>\n",
       "  <tbody>\n",
       "    <tr>\n",
       "      <th>0</th>\n",
       "      <td>Name</td>\n",
       "      <td>Teddy</td>\n",
       "    </tr>\n",
       "    <tr>\n",
       "      <th>1</th>\n",
       "      <td>Species</td>\n",
       "      <td>Dog</td>\n",
       "    </tr>\n",
       "    <tr>\n",
       "      <th>2</th>\n",
       "      <td>Color</td>\n",
       "      <td>Black</td>\n",
       "    </tr>\n",
       "  </tbody>\n",
       "</table>\n",
       "</div>"
      ],
      "text/plain": [
       "         0      1\n",
       "0     Name  Teddy\n",
       "1  Species    Dog\n",
       "2    Color  Black"
      ]
     },
     "execution_count": 7,
     "metadata": {},
     "output_type": "execute_result"
    }
   ],
   "source": [
    "# read in a DataFrame from a 2d list (matrix)\n",
    "my_dog_info = [\n",
    "    ['Name', 'Teddy'],\n",
    "    ['Species', 'Dog'],\n",
    "    ['Color', 'Black']\n",
    "]\n",
    "\n",
    "ted1 = pd.DataFrame(my_dog_info)\n",
    "ted1"
   ]
  },
  {
   "cell_type": "code",
   "execution_count": 8,
   "id": "04a85f7c-d74e-4419-9555-23cf7af3716b",
   "metadata": {},
   "outputs": [
    {
     "data": {
      "text/html": [
       "<div>\n",
       "<style scoped>\n",
       "    .dataframe tbody tr th:only-of-type {\n",
       "        vertical-align: middle;\n",
       "    }\n",
       "\n",
       "    .dataframe tbody tr th {\n",
       "        vertical-align: top;\n",
       "    }\n",
       "\n",
       "    .dataframe thead th {\n",
       "        text-align: right;\n",
       "    }\n",
       "</style>\n",
       "<table border=\"1\" class=\"dataframe\">\n",
       "  <thead>\n",
       "    <tr style=\"text-align: right;\">\n",
       "      <th></th>\n",
       "      <th>0</th>\n",
       "      <th>1</th>\n",
       "      <th>2</th>\n",
       "    </tr>\n",
       "  </thead>\n",
       "  <tbody>\n",
       "    <tr>\n",
       "      <th>0</th>\n",
       "      <td>Name</td>\n",
       "      <td>Species</td>\n",
       "      <td>Color</td>\n",
       "    </tr>\n",
       "    <tr>\n",
       "      <th>1</th>\n",
       "      <td>Teddy</td>\n",
       "      <td>Dog</td>\n",
       "      <td>Black</td>\n",
       "    </tr>\n",
       "  </tbody>\n",
       "</table>\n",
       "</div>"
      ],
      "text/plain": [
       "       0        1      2\n",
       "0   Name  Species  Color\n",
       "1  Teddy      Dog  Black"
      ]
     },
     "execution_count": 8,
     "metadata": {},
     "output_type": "execute_result"
    }
   ],
   "source": [
    "my_dog_info2 = [\n",
    "    ['Name', 'Species', 'Color'],\n",
    "    ['Teddy', 'Dog', 'Black']\n",
    "]\n",
    "\n",
    "ted2 = pd.DataFrame(my_dog_info2)\n",
    "ted2"
   ]
  },
  {
   "cell_type": "code",
   "execution_count": 21,
   "id": "81f35c65-2203-4441-a039-9927470817ed",
   "metadata": {},
   "outputs": [],
   "source": [
    "# my_dog = {\n",
    "#     'Name': ['Teddy', 'Pug', 'Mara'],\n",
    "#     'Breed': ['Lab', 'Pug', 'Dachshund'],\n",
    "#     'Color': ['Black', 'Tan', 'White']\n",
    "# }\n"
   ]
  },
  {
   "cell_type": "code",
   "execution_count": 24,
   "id": "896d7f3f-2949-48ec-94ff-0280bb8a7d82",
   "metadata": {},
   "outputs": [],
   "source": [
    "dog = {\n",
    "    'Name': 'Teddy',\n",
    "    'Breed': 'Lab',\n",
    "    'Color': 'Black'\n",
    "}\n",
    "\n",
    "dog_df = pd.DataFrame(dog, index=[0])"
   ]
  },
  {
   "cell_type": "code",
   "execution_count": 28,
   "id": "7cd71cbe-c1cf-49c5-840d-c75dec6ed841",
   "metadata": {},
   "outputs": [
    {
     "data": {
      "text/html": [
       "<div>\n",
       "<style scoped>\n",
       "    .dataframe tbody tr th:only-of-type {\n",
       "        vertical-align: middle;\n",
       "    }\n",
       "\n",
       "    .dataframe tbody tr th {\n",
       "        vertical-align: top;\n",
       "    }\n",
       "\n",
       "    .dataframe thead th {\n",
       "        text-align: right;\n",
       "    }\n",
       "</style>\n",
       "<table border=\"1\" class=\"dataframe\">\n",
       "  <thead>\n",
       "    <tr style=\"text-align: right;\">\n",
       "      <th></th>\n",
       "      <th>Name</th>\n",
       "      <th>Breed</th>\n",
       "      <th>Color</th>\n",
       "    </tr>\n",
       "  </thead>\n",
       "  <tbody>\n",
       "    <tr>\n",
       "      <th>0</th>\n",
       "      <td>Teddy</td>\n",
       "      <td>Lab</td>\n",
       "      <td>Black</td>\n",
       "    </tr>\n",
       "  </tbody>\n",
       "</table>\n",
       "</div>"
      ],
      "text/plain": [
       "    Name Breed  Color\n",
       "0  Teddy   Lab  Black"
      ]
     },
     "execution_count": 28,
     "metadata": {},
     "output_type": "execute_result"
    }
   ],
   "source": [
    "dog2 = {\n",
    "    'Name': ['Teddy'],\n",
    "    'Breed': ['Lab'],\n",
    "    'Color': ['Black']\n",
    "}\n",
    "\n",
    "dog_df2 = pd.DataFrame(dog2)\n",
    "dog_df2"
   ]
  },
  {
   "cell_type": "code",
   "execution_count": 30,
   "id": "ae115cdd-1338-42a8-9bc9-602e2d1da887",
   "metadata": {},
   "outputs": [
    {
     "data": {
      "text/html": [
       "<div>\n",
       "<style scoped>\n",
       "    .dataframe tbody tr th:only-of-type {\n",
       "        vertical-align: middle;\n",
       "    }\n",
       "\n",
       "    .dataframe tbody tr th {\n",
       "        vertical-align: top;\n",
       "    }\n",
       "\n",
       "    .dataframe thead th {\n",
       "        text-align: right;\n",
       "    }\n",
       "</style>\n",
       "<table border=\"1\" class=\"dataframe\">\n",
       "  <thead>\n",
       "    <tr style=\"text-align: right;\">\n",
       "      <th></th>\n",
       "      <th>Name</th>\n",
       "      <th>Breed</th>\n",
       "      <th>Color</th>\n",
       "    </tr>\n",
       "  </thead>\n",
       "  <tbody>\n",
       "    <tr>\n",
       "      <th>0</th>\n",
       "      <td>Teddy</td>\n",
       "      <td>Lab</td>\n",
       "      <td>Black</td>\n",
       "    </tr>\n",
       "    <tr>\n",
       "      <th>1</th>\n",
       "      <td>Pug</td>\n",
       "      <td>Pug</td>\n",
       "      <td>Tan</td>\n",
       "    </tr>\n",
       "  </tbody>\n",
       "</table>\n",
       "</div>"
      ],
      "text/plain": [
       "    Name Breed  Color\n",
       "0  Teddy   Lab  Black\n",
       "1    Pug   Pug    Tan"
      ]
     },
     "execution_count": 30,
     "metadata": {},
     "output_type": "execute_result"
    }
   ],
   "source": [
    "dog3 = {\n",
    "    'Name': ['Teddy', 'Pug'],\n",
    "    'Breed': ['Lab', 'Pug'],\n",
    "    'Color': ['Black', 'Tan']\n",
    "}\n",
    "\n",
    "dog_df3 = pd.DataFrame(dog3)\n",
    "dog_df3"
   ]
  },
  {
   "cell_type": "code",
   "execution_count": 33,
   "id": "3fb5709a-aa2a-4aa9-a069-9511bba009a0",
   "metadata": {},
   "outputs": [
    {
     "data": {
      "text/html": [
       "<div>\n",
       "<style scoped>\n",
       "    .dataframe tbody tr th:only-of-type {\n",
       "        vertical-align: middle;\n",
       "    }\n",
       "\n",
       "    .dataframe tbody tr th {\n",
       "        vertical-align: top;\n",
       "    }\n",
       "\n",
       "    .dataframe thead th {\n",
       "        text-align: right;\n",
       "    }\n",
       "</style>\n",
       "<table border=\"1\" class=\"dataframe\">\n",
       "  <thead>\n",
       "    <tr style=\"text-align: right;\">\n",
       "      <th></th>\n",
       "      <th>Name</th>\n",
       "      <th>Breed</th>\n",
       "      <th>Color</th>\n",
       "    </tr>\n",
       "  </thead>\n",
       "  <tbody>\n",
       "    <tr>\n",
       "      <th>Jay</th>\n",
       "      <td>Teddy</td>\n",
       "      <td>Lab</td>\n",
       "      <td>Black</td>\n",
       "    </tr>\n",
       "    <tr>\n",
       "      <th>Mary</th>\n",
       "      <td>Pug</td>\n",
       "      <td>Pug</td>\n",
       "      <td>Tan</td>\n",
       "    </tr>\n",
       "  </tbody>\n",
       "</table>\n",
       "</div>"
      ],
      "text/plain": [
       "       Name Breed  Color\n",
       "Jay   Teddy   Lab  Black\n",
       "Mary    Pug   Pug    Tan"
      ]
     },
     "execution_count": 33,
     "metadata": {},
     "output_type": "execute_result"
    }
   ],
   "source": [
    "owner_names = ['Jay', 'Mary']\n",
    "\n",
    "# show df as if we replaced index\n",
    "dog_df3.set_axis(owner_names)"
   ]
  },
  {
   "cell_type": "code",
   "execution_count": 37,
   "id": "1fec077b-0cf3-48fa-989f-c2a8a72fe9b4",
   "metadata": {},
   "outputs": [
    {
     "data": {
      "text/html": [
       "<div>\n",
       "<style scoped>\n",
       "    .dataframe tbody tr th:only-of-type {\n",
       "        vertical-align: middle;\n",
       "    }\n",
       "\n",
       "    .dataframe tbody tr th {\n",
       "        vertical-align: top;\n",
       "    }\n",
       "\n",
       "    .dataframe thead th {\n",
       "        text-align: right;\n",
       "    }\n",
       "</style>\n",
       "<table border=\"1\" class=\"dataframe\">\n",
       "  <thead>\n",
       "    <tr style=\"text-align: right;\">\n",
       "      <th></th>\n",
       "      <th>Name</th>\n",
       "      <th>Breed</th>\n",
       "      <th>Color</th>\n",
       "    </tr>\n",
       "  </thead>\n",
       "  <tbody>\n",
       "    <tr>\n",
       "      <th>0</th>\n",
       "      <td>Teddy</td>\n",
       "      <td>Lab</td>\n",
       "      <td>Black</td>\n",
       "    </tr>\n",
       "    <tr>\n",
       "      <th>1</th>\n",
       "      <td>Pug</td>\n",
       "      <td>Pug</td>\n",
       "      <td>Tan</td>\n",
       "    </tr>\n",
       "  </tbody>\n",
       "</table>\n",
       "</div>"
      ],
      "text/plain": [
       "    Name Breed  Color\n",
       "0  Teddy   Lab  Black\n",
       "1    Pug   Pug    Tan"
      ]
     },
     "execution_count": 37,
     "metadata": {},
     "output_type": "execute_result"
    }
   ],
   "source": [
    "# what is df actually -> df doesn't get replace (state doesn't change)\n",
    "dog_df3"
   ]
  },
  {
   "cell_type": "code",
   "execution_count": 35,
   "id": "51eae12f-21c7-4d31-bdf4-0420e22c835e",
   "metadata": {},
   "outputs": [
    {
     "data": {
      "text/html": [
       "<div>\n",
       "<style scoped>\n",
       "    .dataframe tbody tr th:only-of-type {\n",
       "        vertical-align: middle;\n",
       "    }\n",
       "\n",
       "    .dataframe tbody tr th {\n",
       "        vertical-align: top;\n",
       "    }\n",
       "\n",
       "    .dataframe thead th {\n",
       "        text-align: right;\n",
       "    }\n",
       "</style>\n",
       "<table border=\"1\" class=\"dataframe\">\n",
       "  <thead>\n",
       "    <tr style=\"text-align: right;\">\n",
       "      <th></th>\n",
       "      <th>Name</th>\n",
       "      <th>Breed</th>\n",
       "      <th>Color</th>\n",
       "    </tr>\n",
       "  </thead>\n",
       "  <tbody>\n",
       "    <tr>\n",
       "      <th>Jay</th>\n",
       "      <td>Teddy</td>\n",
       "      <td>Lab</td>\n",
       "      <td>Black</td>\n",
       "    </tr>\n",
       "    <tr>\n",
       "      <th>Mary</th>\n",
       "      <td>Pug</td>\n",
       "      <td>Pug</td>\n",
       "      <td>Tan</td>\n",
       "    </tr>\n",
       "  </tbody>\n",
       "</table>\n",
       "</div>"
      ],
      "text/plain": [
       "       Name Breed  Color\n",
       "Jay   Teddy   Lab  Black\n",
       "Mary    Pug   Pug    Tan"
      ]
     },
     "execution_count": 35,
     "metadata": {},
     "output_type": "execute_result"
    }
   ],
   "source": [
    "# assign df with index to a new var\n",
    "dog_data = dog_df3.set_axis(owner_names)\n",
    "dog_data"
   ]
  },
  {
   "cell_type": "code",
   "execution_count": null,
   "id": "dec9f61e-1b34-40b8-8b21-d1373ac13289",
   "metadata": {},
   "outputs": [],
   "source": [
    "# reassign df to itself, repalce it with version returned from method\n",
    "dog_df3 = dog_df3"
   ]
  },
  {
   "cell_type": "markdown",
   "id": "ca19b66f-4d8f-4172-9053-221063713df0",
   "metadata": {
    "tags": []
   },
   "source": [
    "### DataFrame Recap"
   ]
  },
  {
   "cell_type": "code",
   "execution_count": 41,
   "id": "27580223-7a4b-4a45-9837-53fff38c1424",
   "metadata": {},
   "outputs": [
    {
     "data": {
      "text/html": [
       "<div>\n",
       "<style scoped>\n",
       "    .dataframe tbody tr th:only-of-type {\n",
       "        vertical-align: middle;\n",
       "    }\n",
       "\n",
       "    .dataframe tbody tr th {\n",
       "        vertical-align: top;\n",
       "    }\n",
       "\n",
       "    .dataframe thead th {\n",
       "        text-align: right;\n",
       "    }\n",
       "</style>\n",
       "<table border=\"1\" class=\"dataframe\">\n",
       "  <thead>\n",
       "    <tr style=\"text-align: right;\">\n",
       "      <th></th>\n",
       "      <th>Name</th>\n",
       "      <th>Breed</th>\n",
       "      <th>Color</th>\n",
       "    </tr>\n",
       "  </thead>\n",
       "  <tbody>\n",
       "    <tr>\n",
       "      <th>0</th>\n",
       "      <td>Teddy</td>\n",
       "      <td>Lab</td>\n",
       "      <td>Black</td>\n",
       "    </tr>\n",
       "    <tr>\n",
       "      <th>1</th>\n",
       "      <td>Pug</td>\n",
       "      <td>Pug</td>\n",
       "      <td>Tan</td>\n",
       "    </tr>\n",
       "    <tr>\n",
       "      <th>2</th>\n",
       "      <td>Mara</td>\n",
       "      <td>Dachshund</td>\n",
       "      <td>White</td>\n",
       "    </tr>\n",
       "  </tbody>\n",
       "</table>\n",
       "</div>"
      ],
      "text/plain": [
       "    Name      Breed  Color\n",
       "0  Teddy        Lab  Black\n",
       "1    Pug        Pug    Tan\n",
       "2   Mara  Dachshund  White"
      ]
     },
     "execution_count": 41,
     "metadata": {},
     "output_type": "execute_result"
    }
   ],
   "source": [
    "dogs = {\n",
    "    'Name': ['Teddy', 'Pug', 'Mara'],\n",
    "    'Breed': ['Lab', 'Pug' ,'Dachshund'],\n",
    "    'Color': ['Black', 'Tan', 'White']\n",
    "}\n",
    "\n",
    "dogs_df = pd.DataFrame(dogs)\n",
    "dogs_df"
   ]
  },
  {
   "cell_type": "code",
   "execution_count": 50,
   "id": "cee55fba-afdb-490e-a7d7-f9d171facd9c",
   "metadata": {},
   "outputs": [
    {
     "data": {
      "text/html": [
       "<div>\n",
       "<style scoped>\n",
       "    .dataframe tbody tr th:only-of-type {\n",
       "        vertical-align: middle;\n",
       "    }\n",
       "\n",
       "    .dataframe tbody tr th {\n",
       "        vertical-align: top;\n",
       "    }\n",
       "\n",
       "    .dataframe thead th {\n",
       "        text-align: right;\n",
       "    }\n",
       "</style>\n",
       "<table border=\"1\" class=\"dataframe\">\n",
       "  <thead>\n",
       "    <tr style=\"text-align: right;\">\n",
       "      <th></th>\n",
       "      <th>Name</th>\n",
       "      <th>Breed</th>\n",
       "      <th>Color</th>\n",
       "    </tr>\n",
       "  </thead>\n",
       "  <tbody>\n",
       "    <tr>\n",
       "      <th>0</th>\n",
       "      <td>Speranza</td>\n",
       "      <td>Dachshund</td>\n",
       "      <td>Brown</td>\n",
       "    </tr>\n",
       "  </tbody>\n",
       "</table>\n",
       "</div>"
      ],
      "text/plain": [
       "       Name      Breed  Color\n",
       "0  Speranza  Dachshund  Brown"
      ]
     },
     "execution_count": 50,
     "metadata": {},
     "output_type": "execute_result"
    }
   ],
   "source": [
    "# more_dogs = ['Speranza', 'Dachshund', 'Brown']\n",
    "# easier to work with data frames \n",
    "more_dogs = pd.DataFrame({\n",
    "    'Name': ['Speranza'],\n",
    "    'Breed': ['Dachshund'],\n",
    "    'Color': ['Brown']\n",
    "})\n",
    "more_dogs"
   ]
  },
  {
   "cell_type": "code",
   "execution_count": 53,
   "id": "c0d6e5c2-8cb5-4dc5-a37f-cfd31a3edb7d",
   "metadata": {},
   "outputs": [
    {
     "name": "stdout",
     "output_type": "stream",
     "text": [
      "<class 'pandas.core.frame.DataFrame'>\n",
      "<class 'pandas.core.frame.DataFrame'>\n"
     ]
    },
    {
     "data": {
      "text/html": [
       "<div>\n",
       "<style scoped>\n",
       "    .dataframe tbody tr th:only-of-type {\n",
       "        vertical-align: middle;\n",
       "    }\n",
       "\n",
       "    .dataframe tbody tr th {\n",
       "        vertical-align: top;\n",
       "    }\n",
       "\n",
       "    .dataframe thead th {\n",
       "        text-align: right;\n",
       "    }\n",
       "</style>\n",
       "<table border=\"1\" class=\"dataframe\">\n",
       "  <thead>\n",
       "    <tr style=\"text-align: right;\">\n",
       "      <th></th>\n",
       "      <th>Name</th>\n",
       "      <th>Breed</th>\n",
       "      <th>Color</th>\n",
       "    </tr>\n",
       "  </thead>\n",
       "  <tbody>\n",
       "    <tr>\n",
       "      <th>0</th>\n",
       "      <td>Teddy</td>\n",
       "      <td>Lab</td>\n",
       "      <td>Black</td>\n",
       "    </tr>\n",
       "    <tr>\n",
       "      <th>1</th>\n",
       "      <td>Pug</td>\n",
       "      <td>Pug</td>\n",
       "      <td>Tan</td>\n",
       "    </tr>\n",
       "    <tr>\n",
       "      <th>2</th>\n",
       "      <td>Mara</td>\n",
       "      <td>Dachshund</td>\n",
       "      <td>White</td>\n",
       "    </tr>\n",
       "    <tr>\n",
       "      <th>0</th>\n",
       "      <td>Speranza</td>\n",
       "      <td>Dachshund</td>\n",
       "      <td>Brown</td>\n",
       "    </tr>\n",
       "  </tbody>\n",
       "</table>\n",
       "</div>"
      ],
      "text/plain": [
       "       Name      Breed  Color\n",
       "0     Teddy        Lab  Black\n",
       "1       Pug        Pug    Tan\n",
       "2      Mara  Dachshund  White\n",
       "0  Speranza  Dachshund  Brown"
      ]
     },
     "execution_count": 53,
     "metadata": {},
     "output_type": "execute_result"
    }
   ],
   "source": [
    "# dogs_df.append(more_dogs, ignore_index=True)\n",
    "print(type(dogs_df))\n",
    "print(type(more_dogs))\n",
    "pd.concat([dogs_df, more_dogs])"
   ]
  },
  {
   "cell_type": "markdown",
   "id": "c1c8ae92-0753-45f8-8f8a-1c86d3520788",
   "metadata": {
    "tags": []
   },
   "source": [
    "#### Notes\n",
    "- When combining data, put both types of data in dataframes first, then use pd.concat or df.append\n",
    "- Anytime you call a pandas function (in pandas modual, or method for df), you are not changing the df, returning a new df -> show new df or save new df\n",
    "- When you are calling pandas methods, you are not changing any of your data unless you reassign original variable\n",
    "- Calling pandas methods CREATES new data, does not change the state of the data"
   ]
  },
  {
   "cell_type": "code",
   "execution_count": null,
   "id": "36bd250e-4315-41e8-917e-2e0ecec7b900",
   "metadata": {},
   "outputs": [],
   "source": []
  }
 ],
 "metadata": {
  "kernelspec": {
   "display_name": "Python 3 (ipykernel)",
   "language": "python",
   "name": "python3"
  },
  "language_info": {
   "codemirror_mode": {
    "name": "ipython",
    "version": 3
   },
   "file_extension": ".py",
   "mimetype": "text/x-python",
   "name": "python",
   "nbconvert_exporter": "python",
   "pygments_lexer": "ipython3",
   "version": "3.9.12"
  }
 },
 "nbformat": 4,
 "nbformat_minor": 5
}
